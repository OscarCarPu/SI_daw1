{
 "cells": [
  {
   "attachments": {},
   "cell_type": "markdown",
   "metadata": {},
   "source": [
    "<center>\n",
    "<h1 style=\"color: #007BC4;\">Curso de programación con Python</h1> \n",
    "<h3 style=\"color: #333333;\">SEMANA 2 - EJERCICIOS</h3> \n",
    "</center>\n",
    "\n",
    "<br>\n"
   ]
  },
  {
   "attachments": {},
   "cell_type": "markdown",
   "metadata": {},
   "source": [
    "#### Autor: escribir aquí el nombre del autor\n",
    "Gerardo A. Otero Rodríguez\n"
   ]
  },
  {
   "attachments": {},
   "cell_type": "markdown",
   "metadata": {},
   "source": [
    "<h2 style=\"color: #007BC4;\">Ejercicio 1</h2>\n",
    "<hr style=\"border: 0.5px solid #007BC4;\">\n",
    "\n",
    "Los tramos impositivos para la declaración de la renta en un determinado país son los siguientes:\n",
    "\n",
    "|         Renta          | Tipo impositivo |\n",
    "| :--------------------: | :-------------: |\n",
    "|    Menos de 10000€     |       5%        |\n",
    "| Entre 10000€ y 20000€  |       15%       |\n",
    "| Entre 20000€ y 35000€ |       20%       |\n",
    "| Entre 35000€ y 60000€ |       30%       |\n",
    "|     Más de 60000€      |       45%       |\n",
    "\n",
    "Escribir un programa que pregunte al usuario su renta anual y muestre por pantalla el tipo impositivo que le corresponde. \n",
    "\n",
    "\n",
    "#### Ejemplos de ejecución:\n",
    "\n",
    "<pre>\n",
    "¿Cuál es tu renta anual? 0\n",
    "Error, la renta ha de ser mayor que 0.\n",
    "\n",
    "--------------------------------------------------------------\n",
    "\n",
    "¿Cuál es tu renta anual? 40000\n",
    "Tu tipo impositivo es 30%\n",
    "</pre>"
   ]
  },
  {
   "cell_type": "code",
   "execution_count": 3,
   "metadata": {},
   "outputs": [],
   "source": [
    "#Escribe aquí el código de tu solución\n",
    "renta = int(input(\"¿Cuál es tu renta anual?\"))\n",
    "match renta:\n",
    "  case ren if ren in range(0,9999):\n",
    "    imp=5\n",
    "  case ren if ren in range(10000,19999):\n",
    "    imp=15\n",
    "  case ren if ren in range(20000,34999):\n",
    "    imp=20\n",
    "  case ren if ren in range(35000,59999):\n",
    "    imp=30\n",
    "  case ren if ren>=60000:\n",
    "    imp=45\n",
    "if(renta<=0):\n",
    "  print(\"Error, la renta ha de ser mayor que 0\")\n",
    "else: print(f\"Tu tipo impositivo es {imp}%\")"
   ]
  },
  {
   "attachments": {},
   "cell_type": "markdown",
   "metadata": {},
   "source": [
    "<h2 style=\"color: #007BC4;\">Ejercicio 2</h2>\n",
    "<hr style=\"border: 0.5px solid #007BC4;\">\n",
    "\n",
    "Escribir un programa que pida al usuario un número entero positivo y muestre por pantalla la cuenta atrás desde ese número hasta cero separados por comas.\n",
    "\n",
    "#### Ejemplo de ejecución:\n",
    "<pre>\n",
    "Introduce un número entero positivo: 20\n",
    "20, 19, 18, 17, 16, 15, 14, 13, 12, 11, 10, 9, 8, 7, 6, 5, 4, 3, 2, 1, 0\n",
    "</pre>"
   ]
  },
  {
   "cell_type": "code",
   "execution_count": 2,
   "metadata": {},
   "outputs": [],
   "source": [
    "#Escribe aquí el código de tu solución\n",
    "num = int(input(\"Introduce un número entero positivo: \"))\n",
    "for ind in range(num,-1,-1):\n",
    "  if(ind==0):print(ind)\n",
    "  else: print(ind,end=\", \")"
   ]
  },
  {
   "attachments": {},
   "cell_type": "markdown",
   "metadata": {},
   "source": [
    "<h2 style=\"color: #007BC4;\">Ejercicio 3</h2>\n",
    "<hr style=\"border: 0.5px solid #007BC4;\">\n",
    "\n",
    "Desarrollar un programa en Python que dibuje en pantalla una figura tipo sierra haciendo uso del carácter #.\n",
    "Para ello, se preguntará al usuario:\n",
    "- El ancho de la figura (valor entre 2 y 10). \n",
    "- El número de dientes de sierra que tendrá la figura (valor entre 2 y 10)\n",
    "\n",
    "#### Ejemplo de ejecución:\n",
    "<pre>\n",
    "Introduce la longitud del diente de sierra (2<=n<=10): 5\n",
    "Introduce el número de dientes de la figura (1<=n<=10): 2\n",
    "#\n",
    "##\n",
    "###\n",
    "####\n",
    "#####\n",
    "####\n",
    "###\n",
    "##\n",
    "#\n",
    "#\n",
    "##\n",
    "###\n",
    "####\n",
    "#####\n",
    "####\n",
    "###\n",
    "##\n",
    "#\n",
    "</pre>"
   ]
  },
  {
   "cell_type": "code",
   "execution_count": 5,
   "metadata": {},
   "outputs": [
    {
     "name": "stdout",
     "output_type": "stream",
     "text": [
      "Valor no válido\n"
     ]
    }
   ],
   "source": [
    "#Escribe aquí el código de tu solución\n",
    "long=int(input(\"Introduce la longitud del diente de sierra (2<=n<=10):\"))\n",
    "if(long<2 or long>10):\n",
    "  print(\"Valor no válido\")\n",
    "  exit\n",
    "num=int(input(\"Introduce el número de dientes de la figura (1<=n<=10):\"))\n",
    "if(num<1 or num>10):\n",
    "  print(\"Valor no válido\")\n",
    "  exit\n",
    "for i in range(1,num+1):\n",
    "  for x in range(1,long+1):\n",
    "    for y in range(0,x):\n",
    "      print(\"#\",end=\"\")\n",
    "    print()\n",
    "  for x in range(long-1,0,-1):\n",
    "    for y in range(0,x):\n",
    "      print(\"#\",end=\"\")\n",
    "    print()"
   ]
  },
  {
   "attachments": {},
   "cell_type": "markdown",
   "metadata": {},
   "source": [
    "<h2 style=\"color: #007BC4;\">Ejercicio 4</h2>\n",
    "<hr style=\"border: 0.5px solid #007BC4;\">\n",
    "\n",
    "Realizar un programa en Python que pida al usuario la dimensión y los elementos de dos listas de números enteros (pueden tener distinta dimensión):\n",
    "\n",
    "- Una vez leídos los datos y almacenados en las listas, se generará una nueva lista que será la intersección de ambas, es decir, contendrá aquellos elementos que se encuentren en ambas listas.\n",
    "- El vector intersección se mostrará por pantalla siempre que existan elementos comunes.\n",
    "\n",
    "NOTA: se asume que el usuario no introduce elementos repetidos dentro del mismo vector.\n",
    "\n",
    "\n",
    "#### Ejemplo de ejecución:\n",
    "\n",
    "<pre>\n",
    "Introduce el numero de elementos de la lista 1 (>0):  3\n",
    "Introduce los números:\n",
    "Dato 1: 2\n",
    "Dato 2: 4\n",
    "Dato 3: 1\n",
    "\n",
    "Introduce el numero de elementos de la lista 2 (>0):  5\n",
    "Introduce los números:\n",
    "Dato 1: 3\n",
    "Dato 2: 3\n",
    "Error, elemento repetido. Dato 2: 2\n",
    "Dato 3: 9\n",
    "Dato 4: 0\n",
    "Dato 5: 1\n",
    "\n",
    "La intersección de las listas es: 2 1\n",
    "\n",
    "-----------------------------------------------------------\n",
    "\n",
    "Introduce el numero de elementos de la lista 1 (>0):  2\n",
    "Introduce los números:\n",
    "Dato 0: 3\n",
    "Dato 1: -2\n",
    "\n",
    "Introduce el numero de elementos de la lista 2 (>0):  3\n",
    "Introduce los números:\n",
    "Dato 0: 0\n",
    "Dato 1: 4\n",
    "Dato 2: 5\n",
    "\n",
    "No hay elementos comunes\n",
    "</pre>\n"
   ]
  },
  {
   "cell_type": "code",
   "execution_count": 8,
   "metadata": {},
   "outputs": [],
   "source": [
    "n1 =int(input(\"Introduce el numero de elementos de la lista 1 (>0):\"))\n",
    "l1 = []\n",
    "while(n1<=0):\n",
    "  print(\"Valor no válido\")\n",
    "print(\"Introduce los números:\")\n",
    "for i in range(0,n1):\n",
    "  x =int(input(f\"Dato {i+1}:\"))\n",
    "  while(l1.count(x)):\n",
    "    x=int(input(f\"Error, elemento repetido. Dato {i+1}:\"))\n",
    "  l1.append(x)\n",
    "\n",
    "\n",
    "n2 =int(input(\"Introduce el numero de elementos de la lista 1 (>0):\"))\n",
    "l2 = []\n",
    "while(n2<=0):\n",
    "  print(\"Valor no válido\")\n",
    "print(\"Introduce los números:\")\n",
    "for i in range(0,n2):\n",
    "  x =int(input(f\"Dato {i+1}:\"))\n",
    "  while(l2.count(x)):\n",
    "    x=int(input(f\"Error, elemento repetido. Dato {i+1}:\"))\n",
    "  l2.append(x)\n",
    "\n",
    "l3 = []\n",
    "for i in l1:\n",
    "  if(l2.count(i)):\n",
    "    l3.append(i)\n",
    "\n",
    "if(len(l3)==0):\n",
    "  print(\"No hay elementos comunes\")\n",
    "else:\n",
    "  print(\"La intersección de las listas es: \",end=\"\")\n",
    "  for i in l3:\n",
    "    print(i,end=\" \")\n",
    "\n",
    "\n"
   ]
  },
  {
   "attachments": {},
   "cell_type": "markdown",
   "metadata": {},
   "source": [
    "<h2 style=\"color: #007BC4;\">Ejercicio 5</h2>\n",
    "<hr style=\"border: 0.5px solid #007BC4;\">\n",
    "\n",
    "Implementar un programa en Python que:\n",
    "- Lea una frase (f) por teclado.\n",
    "- Lea un caracter por teclado (c) \n",
    "- Cambie todas las vocales de f por c Muestre f\n",
    "\n",
    "#### Ejemplo de ejecución:\n",
    "\n",
    "Dime una frase: Programar en python es muy divertido<br>\n",
    "Dime un caracter: o<br>\n",
    "La nueva frase es: Progromor on python os moy dovortodo<br>\n",
    "\n",
    "================================================================\n",
    "\n",
    "Dime una frase: Estamos trabajando con listas<br>\n",
    "Dime un caracter: ?<br>\n",
    "La nueva frase es: ?st?m?s tr?b?j?nd? c?n l?st?s<br>"
   ]
  },
  {
   "cell_type": "code",
   "execution_count": 7,
   "metadata": {},
   "outputs": [
    {
     "name": "stdout",
     "output_type": "stream",
     "text": [
      "Est?m?s tr?b?j?nd? c?n l?st?s\n"
     ]
    }
   ],
   "source": [
    "#Escribe aquí el código de tu solución\n",
    "a = input(\"Dime una frase: \")\n",
    "c = input(\"Dime un caracter: \")\n",
    "a=a.replace(\"a\",c)\n",
    "a=a.replace(\"e\",c)\n",
    "a=a.replace(\"i\",c)\n",
    "a=a.replace(\"o\",c)\n",
    "a=a.replace(\"u\",c)\n",
    "print(a)"
   ]
  }
 ],
 "metadata": {
  "kernelspec": {
   "display_name": "Python 3 (ipykernel)",
   "language": "python",
   "name": "python3"
  },
  "language_info": {
   "codemirror_mode": {
    "name": "ipython",
    "version": 3
   },
   "file_extension": ".py",
   "mimetype": "text/x-python",
   "name": "python",
   "nbconvert_exporter": "python",
   "pygments_lexer": "ipython3",
   "version": "3.11.3"
  },
  "vscode": {
   "interpreter": {
    "hash": "7e1998ff7f8aa20ada591c520b972326324e5ea05489af9e422744c7c09f6dad"
   }
  }
 },
 "nbformat": 4,
 "nbformat_minor": 4
}
